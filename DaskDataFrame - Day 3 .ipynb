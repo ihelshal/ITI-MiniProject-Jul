{
 "cells": [
  {
   "cell_type": "code",
   "execution_count": 5,
   "id": "9355ff44",
   "metadata": {},
   "outputs": [],
   "source": [
    "import pandas as pd\n",
    "import numpy as np\n",
    "import dask.dataframe as dd\n",
    "import time\n",
    "\n",
    "import warnings \n",
    "warnings.filterwarnings('ignore')"
   ]
  },
  {
   "cell_type": "code",
   "execution_count": null,
   "id": "ecdeeb02",
   "metadata": {},
   "outputs": [],
   "source": [
    "#Create Large Dataset\n",
    "N = 5 * 10**7\n",
    "df= pd.DataFrame(\n",
    "    {\n",
    "        \"A\":np.random.rand(N),\n",
    "        \"B\":np.random.rand(N),\n",
    "        \"C\":np.random.rand(N)\n",
    "    }\n",
    ")\n",
    "\n",
    "print(df.shape)"
   ]
  },
  {
   "cell_type": "code",
   "execution_count": null,
   "id": "7e02dd3c",
   "metadata": {},
   "outputs": [],
   "source": [
    "start_time = time.time()\n",
    "\n",
    "result = df.groupby(\"A\").sum()\n",
    "\n",
    "end_time = time.time()\n",
    "print(f\"Time in {end_time - start_time} sec.\")"
   ]
  },
  {
   "cell_type": "code",
   "execution_count": null,
   "id": "3ca30e32",
   "metadata": {},
   "outputs": [],
   "source": [
    "df = dd.from_pandas(df, npartitions=50)"
   ]
  },
  {
   "cell_type": "code",
   "execution_count": null,
   "id": "9c19e03f",
   "metadata": {},
   "outputs": [],
   "source": [
    "%%time\n",
    "\n",
    "result = df.groupby(\"A\").sum().compute()"
   ]
  },
  {
   "cell_type": "code",
   "execution_count": 3,
   "id": "e40c9558",
   "metadata": {},
   "outputs": [],
   "source": [
    "from dask import delayed\n",
    "import dask"
   ]
  },
  {
   "cell_type": "code",
   "execution_count": null,
   "id": "dcb9133a",
   "metadata": {},
   "outputs": [],
   "source": [
    "def slow_function(x):\n",
    "    time.sleep(1)\n",
    "    return x*x"
   ]
  },
  {
   "cell_type": "code",
   "execution_count": null,
   "id": "d8a2f3d8",
   "metadata": {},
   "outputs": [],
   "source": [
    "results = []\n",
    "for r in range(100):\n",
    "    results.append(delayed(slow_function)(r))"
   ]
  },
  {
   "cell_type": "code",
   "execution_count": null,
   "id": "85b35af4",
   "metadata": {},
   "outputs": [],
   "source": [
    "%%time\n",
    "final = dask.compute(*results)\n",
    "print(final)"
   ]
  },
  {
   "cell_type": "code",
   "execution_count": null,
   "id": "95345b58",
   "metadata": {},
   "outputs": [],
   "source": []
  },
  {
   "cell_type": "code",
   "execution_count": null,
   "id": "37192a7c",
   "metadata": {},
   "outputs": [],
   "source": []
  },
  {
   "cell_type": "code",
   "execution_count": null,
   "id": "3088a1cd",
   "metadata": {},
   "outputs": [],
   "source": []
  },
  {
   "cell_type": "code",
   "execution_count": null,
   "id": "73ee249a",
   "metadata": {},
   "outputs": [],
   "source": []
  },
  {
   "cell_type": "code",
   "execution_count": 13,
   "id": "c20e0ca5",
   "metadata": {},
   "outputs": [],
   "source": [
    "import dask\n",
    "df = dask.datasets.timeseries()"
   ]
  },
  {
   "cell_type": "code",
   "execution_count": 14,
   "id": "acf1a1d4",
   "metadata": {},
   "outputs": [
    {
     "data": {
      "text/html": [
       "<div><strong>Dask DataFrame Structure:</strong></div>\n",
       "<div>\n",
       "<style scoped>\n",
       "    .dataframe tbody tr th:only-of-type {\n",
       "        vertical-align: middle;\n",
       "    }\n",
       "\n",
       "    .dataframe tbody tr th {\n",
       "        vertical-align: top;\n",
       "    }\n",
       "\n",
       "    .dataframe thead th {\n",
       "        text-align: right;\n",
       "    }\n",
       "</style>\n",
       "<table border=\"1\" class=\"dataframe\">\n",
       "  <thead>\n",
       "    <tr style=\"text-align: right;\">\n",
       "      <th></th>\n",
       "      <th>name</th>\n",
       "      <th>id</th>\n",
       "      <th>x</th>\n",
       "      <th>y</th>\n",
       "    </tr>\n",
       "    <tr>\n",
       "      <th>npartitions=30</th>\n",
       "      <th></th>\n",
       "      <th></th>\n",
       "      <th></th>\n",
       "      <th></th>\n",
       "    </tr>\n",
       "  </thead>\n",
       "  <tbody>\n",
       "    <tr>\n",
       "      <th>2000-01-01</th>\n",
       "      <td>object</td>\n",
       "      <td>int64</td>\n",
       "      <td>float64</td>\n",
       "      <td>float64</td>\n",
       "    </tr>\n",
       "    <tr>\n",
       "      <th>2000-01-02</th>\n",
       "      <td>...</td>\n",
       "      <td>...</td>\n",
       "      <td>...</td>\n",
       "      <td>...</td>\n",
       "    </tr>\n",
       "    <tr>\n",
       "      <th>...</th>\n",
       "      <td>...</td>\n",
       "      <td>...</td>\n",
       "      <td>...</td>\n",
       "      <td>...</td>\n",
       "    </tr>\n",
       "    <tr>\n",
       "      <th>2000-01-30</th>\n",
       "      <td>...</td>\n",
       "      <td>...</td>\n",
       "      <td>...</td>\n",
       "      <td>...</td>\n",
       "    </tr>\n",
       "    <tr>\n",
       "      <th>2000-01-31</th>\n",
       "      <td>...</td>\n",
       "      <td>...</td>\n",
       "      <td>...</td>\n",
       "      <td>...</td>\n",
       "    </tr>\n",
       "  </tbody>\n",
       "</table>\n",
       "</div>\n",
       "<div>Dask Name: make-timeseries, 1 graph layer</div>"
      ],
      "text/plain": [
       "Dask DataFrame Structure:\n",
       "                  name     id        x        y\n",
       "npartitions=30                                 \n",
       "2000-01-01      object  int64  float64  float64\n",
       "2000-01-02         ...    ...      ...      ...\n",
       "...                ...    ...      ...      ...\n",
       "2000-01-30         ...    ...      ...      ...\n",
       "2000-01-31         ...    ...      ...      ...\n",
       "Dask Name: make-timeseries, 1 graph layer"
      ]
     },
     "execution_count": 14,
     "metadata": {},
     "output_type": "execute_result"
    }
   ],
   "source": [
    "df"
   ]
  },
  {
   "cell_type": "code",
   "execution_count": 15,
   "id": "8a83b7fd",
   "metadata": {},
   "outputs": [
    {
     "data": {
      "text/plain": [
       "name     object\n",
       "id        int64\n",
       "x       float64\n",
       "y       float64\n",
       "dtype: object"
      ]
     },
     "execution_count": 15,
     "metadata": {},
     "output_type": "execute_result"
    }
   ],
   "source": [
    "df.dtypes"
   ]
  },
  {
   "cell_type": "code",
   "execution_count": 16,
   "id": "ca6ba344",
   "metadata": {},
   "outputs": [],
   "source": [
    "# df.compute()"
   ]
  },
  {
   "cell_type": "code",
   "execution_count": 17,
   "id": "b1d6c2b0",
   "metadata": {},
   "outputs": [
    {
     "data": {
      "text/html": [
       "<div>\n",
       "<style scoped>\n",
       "    .dataframe tbody tr th:only-of-type {\n",
       "        vertical-align: middle;\n",
       "    }\n",
       "\n",
       "    .dataframe tbody tr th {\n",
       "        vertical-align: top;\n",
       "    }\n",
       "\n",
       "    .dataframe thead th {\n",
       "        text-align: right;\n",
       "    }\n",
       "</style>\n",
       "<table border=\"1\" class=\"dataframe\">\n",
       "  <thead>\n",
       "    <tr style=\"text-align: right;\">\n",
       "      <th></th>\n",
       "      <th>name</th>\n",
       "      <th>id</th>\n",
       "      <th>x</th>\n",
       "      <th>y</th>\n",
       "    </tr>\n",
       "    <tr>\n",
       "      <th>timestamp</th>\n",
       "      <th></th>\n",
       "      <th></th>\n",
       "      <th></th>\n",
       "      <th></th>\n",
       "    </tr>\n",
       "  </thead>\n",
       "  <tbody>\n",
       "    <tr>\n",
       "      <th>2000-01-01 00:00:00</th>\n",
       "      <td>Xavier</td>\n",
       "      <td>969</td>\n",
       "      <td>-0.515586</td>\n",
       "      <td>-0.589153</td>\n",
       "    </tr>\n",
       "    <tr>\n",
       "      <th>2000-01-01 00:00:01</th>\n",
       "      <td>Laura</td>\n",
       "      <td>1018</td>\n",
       "      <td>-0.309081</td>\n",
       "      <td>-0.069408</td>\n",
       "    </tr>\n",
       "    <tr>\n",
       "      <th>2000-01-01 00:00:02</th>\n",
       "      <td>Ray</td>\n",
       "      <td>973</td>\n",
       "      <td>0.087368</td>\n",
       "      <td>-0.996697</td>\n",
       "    </tr>\n",
       "    <tr>\n",
       "      <th>2000-01-01 00:00:03</th>\n",
       "      <td>Kevin</td>\n",
       "      <td>950</td>\n",
       "      <td>-0.379951</td>\n",
       "      <td>0.353985</td>\n",
       "    </tr>\n",
       "    <tr>\n",
       "      <th>2000-01-01 00:00:04</th>\n",
       "      <td>Frank</td>\n",
       "      <td>980</td>\n",
       "      <td>-0.737254</td>\n",
       "      <td>0.530876</td>\n",
       "    </tr>\n",
       "  </tbody>\n",
       "</table>\n",
       "</div>"
      ],
      "text/plain": [
       "                       name    id         x         y\n",
       "timestamp                                            \n",
       "2000-01-01 00:00:00  Xavier   969 -0.515586 -0.589153\n",
       "2000-01-01 00:00:01   Laura  1018 -0.309081 -0.069408\n",
       "2000-01-01 00:00:02     Ray   973  0.087368 -0.996697\n",
       "2000-01-01 00:00:03   Kevin   950 -0.379951  0.353985\n",
       "2000-01-01 00:00:04   Frank   980 -0.737254  0.530876"
      ]
     },
     "execution_count": 17,
     "metadata": {},
     "output_type": "execute_result"
    }
   ],
   "source": [
    "df.head()"
   ]
  },
  {
   "cell_type": "code",
   "execution_count": 20,
   "id": "7bf2039b",
   "metadata": {},
   "outputs": [
    {
     "data": {
      "text/plain": [
       "name\n",
       "Alice       320.953205\n",
       "Bob         -92.715225\n",
       "Charlie    -119.635043\n",
       "Dan         164.521683\n",
       "Edith        66.881044\n",
       "Frank       -86.706241\n",
       "George      113.495376\n",
       "Hannah      -26.756723\n",
       "Ingrid     -384.533476\n",
       "Jerry       289.503682\n",
       "Kevin      -234.367947\n",
       "Laura      -103.846876\n",
       "Michael      34.370857\n",
       "Norbert     339.842081\n",
       "Oliver       91.265426\n",
       "Patricia    247.413645\n",
       "Quinn        30.389154\n",
       "Ray         103.551377\n",
       "Sarah       -55.025381\n",
       "Tim         133.547736\n",
       "Ursula      163.449028\n",
       "Victor     -137.069228\n",
       "Wendy       257.177951\n",
       "Xavier      269.399340\n",
       "Yvonne      -33.040090\n",
       "Zelda      -133.960870\n",
       "Name: x, dtype: float64"
      ]
     },
     "execution_count": 20,
     "metadata": {},
     "output_type": "execute_result"
    }
   ],
   "source": [
    "df.groupby(['name'])['x'].sum().compute()"
   ]
  },
  {
   "cell_type": "code",
   "execution_count": 1,
   "id": "e2495fc8",
   "metadata": {},
   "outputs": [],
   "source": [
    "import dask.dataframe as dd\n",
    "\n",
    "x = dd.read_csv('file', blocksize='64MB')\n",
    "\n",
    "print(x.npartitions)"
   ]
  },
  {
   "cell_type": "code",
   "execution_count": null,
   "id": "ad20801d",
   "metadata": {},
   "outputs": [],
   "source": []
  }
 ],
 "metadata": {
  "kernelspec": {
   "display_name": "Python 3 (ipykernel)",
   "language": "python",
   "name": "python3"
  },
  "language_info": {
   "codemirror_mode": {
    "name": "ipython",
    "version": 3
   },
   "file_extension": ".py",
   "mimetype": "text/x-python",
   "name": "python",
   "nbconvert_exporter": "python",
   "pygments_lexer": "ipython3",
   "version": "3.10.9"
  }
 },
 "nbformat": 4,
 "nbformat_minor": 5
}
